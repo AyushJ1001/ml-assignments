{
 "cells": [
  {
   "cell_type": "markdown",
   "metadata": {},
   "source": [
    "# Assignment 1 : Spam Email Detection Using Naive Bayesian"
   ]
  },
  {
   "cell_type": "markdown",
   "metadata": {},
   "source": [
    "## Importing Libraries"
   ]
  },
  {
   "cell_type": "code",
   "execution_count": 2,
   "metadata": {},
   "outputs": [],
   "source": [
    "import numpy as np\n",
    "import pandas as pd\n",
    "import matplotlib.pyplot as plt\n",
    "import seaborn as sns\n",
    "\n",
    "import string\n",
    "import nltk\n",
    "from nltk.tokenize import word_tokenize\n",
    "from nltk.corpus import stopwords\n",
    "from sklearn.feature_extraction.text import CountVectorizer\n",
    "from sklearn.naive_bayes import MultinomialNB, GaussianNB\n",
    "from sklearn.model_selection import train_test_split\n",
    "from sklearn.metrics import accuracy_score, confusion_matrix, classification_report\n",
    "from sklearn.metrics import precision_recall_fscore_support\n",
    "from scipy.sparse import hstack, csr_matrix\n",
    "from sklearn.preprocessing import MultiLabelBinarizer"
   ]
  },
  {
   "cell_type": "markdown",
   "metadata": {},
   "source": [
    "## Dataset Preprocessing"
   ]
  },
  {
   "cell_type": "markdown",
   "metadata": {},
   "source": [
    "### Loading the dataset"
   ]
  },
  {
   "cell_type": "code",
   "execution_count": 3,
   "metadata": {},
   "outputs": [
    {
     "data": {
      "text/html": [
       "<div>\n",
       "<style scoped>\n",
       "    .dataframe tbody tr th:only-of-type {\n",
       "        vertical-align: middle;\n",
       "    }\n",
       "\n",
       "    .dataframe tbody tr th {\n",
       "        vertical-align: top;\n",
       "    }\n",
       "\n",
       "    .dataframe thead th {\n",
       "        text-align: right;\n",
       "    }\n",
       "</style>\n",
       "<table border=\"1\" class=\"dataframe\">\n",
       "  <thead>\n",
       "    <tr style=\"text-align: right;\">\n",
       "      <th></th>\n",
       "      <th>Unnamed: 0</th>\n",
       "      <th>label</th>\n",
       "      <th>text</th>\n",
       "      <th>label_num</th>\n",
       "    </tr>\n",
       "  </thead>\n",
       "  <tbody>\n",
       "    <tr>\n",
       "      <th>0</th>\n",
       "      <td>605</td>\n",
       "      <td>ham</td>\n",
       "      <td>Subject: enron methanol ; meter # : 988291\\r\\n...</td>\n",
       "      <td>0</td>\n",
       "    </tr>\n",
       "    <tr>\n",
       "      <th>1</th>\n",
       "      <td>2349</td>\n",
       "      <td>ham</td>\n",
       "      <td>Subject: hpl nom for january 9 , 2001\\r\\n( see...</td>\n",
       "      <td>0</td>\n",
       "    </tr>\n",
       "    <tr>\n",
       "      <th>2</th>\n",
       "      <td>3624</td>\n",
       "      <td>ham</td>\n",
       "      <td>Subject: neon retreat\\r\\nho ho ho , we ' re ar...</td>\n",
       "      <td>0</td>\n",
       "    </tr>\n",
       "    <tr>\n",
       "      <th>3</th>\n",
       "      <td>4685</td>\n",
       "      <td>spam</td>\n",
       "      <td>Subject: photoshop , windows , office . cheap ...</td>\n",
       "      <td>1</td>\n",
       "    </tr>\n",
       "    <tr>\n",
       "      <th>4</th>\n",
       "      <td>2030</td>\n",
       "      <td>ham</td>\n",
       "      <td>Subject: re : indian springs\\r\\nthis deal is t...</td>\n",
       "      <td>0</td>\n",
       "    </tr>\n",
       "  </tbody>\n",
       "</table>\n",
       "</div>"
      ],
      "text/plain": [
       "   Unnamed: 0 label                                               text  \\\n",
       "0         605   ham  Subject: enron methanol ; meter # : 988291\\r\\n...   \n",
       "1        2349   ham  Subject: hpl nom for january 9 , 2001\\r\\n( see...   \n",
       "2        3624   ham  Subject: neon retreat\\r\\nho ho ho , we ' re ar...   \n",
       "3        4685  spam  Subject: photoshop , windows , office . cheap ...   \n",
       "4        2030   ham  Subject: re : indian springs\\r\\nthis deal is t...   \n",
       "\n",
       "   label_num  \n",
       "0          0  \n",
       "1          0  \n",
       "2          0  \n",
       "3          1  \n",
       "4          0  "
      ]
     },
     "execution_count": 3,
     "metadata": {},
     "output_type": "execute_result"
    }
   ],
   "source": [
    "data_directory=r'G:\\My Drive\\Phd Courses\\CS 5841- Machine Learning\\Assignments\\1\\spam_ham_dataset.csv'\n",
    "df = pd.read_csv(data_directory)\n",
    "df.head()"
   ]
  },
  {
   "cell_type": "markdown",
   "metadata": {},
   "source": [
    "### Handling Missing Values"
   ]
  },
  {
   "cell_type": "code",
   "execution_count": 4,
   "metadata": {},
   "outputs": [
    {
     "name": "stdout",
     "output_type": "stream",
     "text": [
      "Missing values in each column:\n",
      "Unnamed: 0    0\n",
      "label         0\n",
      "text          0\n",
      "label_num     0\n",
      "dtype: int64\n",
      "\n",
      "Imported data size: (5171, 4)\n"
     ]
    }
   ],
   "source": [
    "# Quick overview of how many missing values are in each column\n",
    "print(\"Missing values in each column:\")\n",
    "print(df.isnull().sum())\n",
    "\n",
    "# Get the size of the imported data\n",
    "imported_data_size = df.shape\n",
    "print(\"\\nImported data size:\", imported_data_size)\n",
    "\n",
    "### important point: this code was developed because df.fillna(mean_values, inplace=True) which is a common technique, did not simply work for text \n",
    "\n",
    "\n",
    "# Recognizing problematic data\n",
    "problematic_data = []\n",
    "for i in range(imported_data_size[0]):\n",
    "    for j in range(imported_data_size[1]): \n",
    "        if pd.isnull(df.iloc[i, j]):\n",
    "            print(\"There are some NaN values in imported data\")\n",
    "            problematic_data.append([i, j])\n",
    "\n",
    "# Cleaning problematic data: modification if possible \n",
    "for i in range(len(problematic_data)):\n",
    "    temp_data = problematic_data[i]\n",
    "\n",
    "    # Replace NaN in the first column with the mean value of the column\n",
    "    if temp_data[1] == 0:  # specifying number of words in email column\n",
    "        print(\"yes\")\n",
    "        df.iloc[:, 0] = pd.to_numeric(df.iloc[:, 0], errors='coerce')\n",
    "        mean_value = df.iloc[:, 0].mean(skipna=True)\n",
    "        df.iloc[temp_data[0], 0] = mean_value\n",
    "        \n",
    "    # If email text or label is missing, remove the row\n",
    "    else:\n",
    "        df.drop(temp_data[0], inplace=True)\n",
    "\n",
    "# Reset index after dropping rows\n",
    "df.reset_index(drop=True, inplace=True)\n"
   ]
  },
  {
   "cell_type": "markdown",
   "metadata": {},
   "source": [
    "### Text preprocessing"
   ]
  },
  {
   "cell_type": "code",
   "execution_count": 8,
   "metadata": {},
   "outputs": [
    {
     "name": "stderr",
     "output_type": "stream",
     "text": [
      "[nltk_data] Downloading package punkt to\n",
      "[nltk_data]     C:\\Users\\majidr\\AppData\\Roaming\\nltk_data...\n",
      "[nltk_data]   Package punkt is already up-to-date!\n",
      "[nltk_data] Downloading package stopwords to\n",
      "[nltk_data]     C:\\Users\\majidr\\AppData\\Roaming\\nltk_data...\n",
      "[nltk_data]   Package stopwords is already up-to-date!\n",
      "[nltk_data] Downloading package punkt_tab to\n",
      "[nltk_data]     C:\\Users\\majidr\\AppData\\Roaming\\nltk_data...\n",
      "[nltk_data]   Package punkt_tab is already up-to-date!\n"
     ]
    },
    {
     "name": "stdout",
     "output_type": "stream",
     "text": [
      "object\n",
      "   Unnamed: 0 label                                               text  \\\n",
      "0         605   ham  Subject: enron methanol ; meter # : 988291\\r\\n...   \n",
      "1        2349   ham  Subject: hpl nom for january 9 , 2001\\r\\n( see...   \n",
      "2        3624   ham  Subject: neon retreat\\r\\nho ho ho , we ' re ar...   \n",
      "3        4685  spam  Subject: photoshop , windows , office . cheap ...   \n",
      "4        2030   ham  Subject: re : indian springs\\r\\nthis deal is t...   \n",
      "\n",
      "   label_num                                       cleaned_text  \n",
      "0          0  subject enron methanol meter 988291 follow not...  \n",
      "1          0  subject hpl nom january 9 2001 see attached fi...  \n",
      "2          0  subject neon retreat ho ho ho around wonderful...  \n",
      "3          1  subject photoshop windows office cheap main tr...  \n",
      "4          0  subject indian springs deal book teco pvr reve...  \n"
     ]
    }
   ],
   "source": [
    "# initial definition of features and labels\n",
    "\n",
    "X = df['text']\n",
    "y = df['label_num']\n",
    "\n",
    "# importing Natural Language Toolkit to use its text cleaning capabilities such as removal of stopping words\n",
    "\n",
    "import nltk\n",
    "nltk.download('punkt')\n",
    "nltk.download('stopwords')\n",
    "nltk.download('punkt_tab')\n",
    "\n",
    "# converting to lower case \n",
    "X=X.astype(str)\n",
    "print(X.dtype)\n",
    "X=X.apply(lambda x: x.lower())\n",
    "\n",
    "# Define stop words\n",
    "stop_words = set(stopwords.words('english'))\n",
    "\n",
    "cleaned_texts = []\n",
    "\n",
    "for text in X:\n",
    "    \n",
    "    # Step 1: Remove punctuation\n",
    "    text = ''.join([char for char in text if char not in string.punctuation])\n",
    "    \n",
    "    # Step 2: Tokenize text\n",
    "    words = word_tokenize(text)\n",
    "    \n",
    "    # Step 3: Remove stop words\n",
    "    filtered_words = [word for word in words if word.lower() not in stop_words]\n",
    "    \n",
    "    # Step 4: Join cleaned words back into a single string\n",
    "    cleaned_text = ' '.join(filtered_words)\n",
    "    \n",
    "\n",
    "    cleaned_texts.append(cleaned_text)\n",
    "\n",
    "\n",
    "# Attach these new columns to the DataFrame\n",
    "df[\"cleaned_text\"]   = cleaned_texts\n",
    "\n",
    "print(df.head())\n",
    "\n",
    "\n",
    "vectorizer = CountVectorizer(stop_words='english', lowercase=True)\n",
    "X = vectorizer.fit_transform(df['cleaned_text'])\n"
   ]
  },
  {
   "cell_type": "markdown",
   "metadata": {},
   "source": [
    "## Modeling"
   ]
  },
  {
   "cell_type": "markdown",
   "metadata": {},
   "source": [
    "### Train test split"
   ]
  },
  {
   "cell_type": "code",
   "execution_count": 9,
   "metadata": {},
   "outputs": [],
   "source": [
    "# spliting data to training and testing; *80% train and 20% test; \"random_state=42\" ensures consistant random selection thorough multiple runds\n",
    "\n",
    "X_train, X_test, y_train, y_test = train_test_split(X, y, test_size=0.2, random_state=42)\n"
   ]
  },
  {
   "cell_type": "markdown",
   "metadata": {},
   "source": [
    "### Multinomial Naive Bayes"
   ]
  },
  {
   "cell_type": "code",
   "execution_count": 10,
   "metadata": {},
   "outputs": [],
   "source": [
    "model = MultinomialNB()\n",
    "\n",
    "model.fit(X_train, y_train)\n",
    "\n",
    "### Predictions\n",
    "\n",
    "y_pred_mnb = model.predict(X_test)"
   ]
  },
  {
   "cell_type": "markdown",
   "metadata": {},
   "source": [
    "### Gaussian Naive Bayes"
   ]
  },
  {
   "cell_type": "code",
   "execution_count": 11,
   "metadata": {},
   "outputs": [],
   "source": [
    "model = GaussianNB()\n",
    "\n",
    "# Convert X_train and X_test to dense arrays\n",
    "X_train_dense = X_train.toarray()\n",
    "X_test_dense = X_test.toarray()\n",
    "\n",
    "model.fit(X_train_dense, y_train)\n",
    "\n",
    "y_pred_gnb = model.predict(X_test_dense)\n"
   ]
  },
  {
   "cell_type": "markdown",
   "metadata": {},
   "source": [
    "## Evaluation"
   ]
  },
  {
   "cell_type": "markdown",
   "metadata": {},
   "source": [
    "### Accuracy"
   ]
  },
  {
   "cell_type": "code",
   "execution_count": 12,
   "metadata": {},
   "outputs": [
    {
     "name": "stdout",
     "output_type": "stream",
     "text": [
      "Accuracy of Multinomial Naive Bayes (Percent): 97.6 %\n",
      "Accuracy of Gaussian Naive Bayes (Percent): 95.5 %\n"
     ]
    }
   ],
   "source": [
    "accuracy_mnb = np.round(accuracy_score(y_test, y_pred_mnb),3)\n",
    "accuracy_gnb = np.round(accuracy_score(y_test, y_pred_gnb),3)\n",
    "\n",
    "print(f\"Accuracy of Multinomial Naive Bayes (Percent): {accuracy_mnb*100} %\")\n",
    "print(f\"Accuracy of Gaussian Naive Bayes (Percent): {accuracy_gnb*100} %\")"
   ]
  },
  {
   "cell_type": "markdown",
   "metadata": {},
   "source": [
    "### Confusion Matrix"
   ]
  },
  {
   "cell_type": "code",
   "execution_count": 13,
   "metadata": {},
   "outputs": [
    {
     "data": {
      "image/png": "[encoded data removed]",
      "text/plain": [
       "<Figure size 1200x500 with 4 Axes>"
      ]
     },
     "metadata": {},
     "output_type": "display_data"
    }
   ],
   "source": [
    "conf_matrix_mnb = confusion_matrix(y_test, y_pred_mnb)\n",
    "conf_matrix_gnb = confusion_matrix(y_test, y_pred_gnb)\n",
    "\n",
    "# Add heatmap visualization for confusion matrices\n",
    "plt.figure(figsize=(12, 5))\n",
    "plt.subplot(1, 2, 1)\n",
    "sns.heatmap(conf_matrix_mnb, annot=True, fmt='d', cmap='Blues', \n",
    "            xticklabels=['Ham', 'Spam'], yticklabels=['Ham', 'Spam'])\n",
    "plt.title('Multinomial NB Confusion Matrix')\n",
    "\n",
    "plt.subplot(1, 2, 2)\n",
    "sns.heatmap(conf_matrix_gnb, annot=True, fmt='d', cmap='Reds',\n",
    "            xticklabels=['Ham', 'Spam'], yticklabels=['Ham', 'Spam'])\n",
    "plt.title('Gaussian NB Confusion Matrix')\n",
    "plt.tight_layout()\n",
    "plt.show()"
   ]
  },
  {
   "cell_type": "markdown",
   "metadata": {},
   "source": [
    "### Precision, Recall, F1 Score"
   ]
  },
  {
   "cell_type": "code",
   "execution_count": 14,
   "metadata": {},
   "outputs": [
    {
     "name": "stdout",
     "output_type": "stream",
     "text": [
      "Precision of Multinomial Naive Bayes: 95.3%\n",
      "Recall of Multinomial Naive Bayes: 96.2%\n",
      "F1 Score of Multinomial Naive Bayes: 95.8%\n",
      "Precision of Gaussian Naive Bayes: 96.2%\n",
      "Recall of Gaussian Naive Bayes: 87.4%\n",
      "F1 Score of Gaussian Naive Bayes: 92.0%\n"
     ]
    }
   ],
   "source": [
    "precision_mnb, recall_mnb, f1_mnb, _ = precision_recall_fscore_support(y_test, y_pred_mnb, average='binary')\n",
    "precision_gnb, recall_gnb, f1_gnb, _ = precision_recall_fscore_support(y_test, y_pred_gnb, average='binary')\n",
    "\n",
    "\n",
    "print(f\"Precision of Multinomial Naive Bayes: {np.round(precision_mnb,3)*100}%\")\n",
    "print(f\"Recall of Multinomial Naive Bayes: {np.round(recall_mnb,3)*100}%\")\n",
    "print(f\"F1 Score of Multinomial Naive Bayes: {np.round(f1_mnb,3)*100}%\")\n",
    "print(f\"Precision of Gaussian Naive Bayes: {np.round(precision_gnb,3)*100}%\")\n",
    "print(f\"Recall of Gaussian Naive Bayes: {np.round(recall_gnb,3)*100}%\")\n",
    "print(f\"F1 Score of Gaussian Naive Bayes: {np.round(f1_gnb,2)*100}%\")"
   ]
  },
  {
   "cell_type": "markdown",
   "metadata": {},
   "source": [
    "### ROC Curve"
   ]
  },
  {
   "cell_type": "code",
   "execution_count": 31,
   "metadata": {},
   "outputs": [
    {
     "data": {
      "image/png": "[encoded data removed]",
      "text/plain": [
       "<Figure size 640x480 with 1 Axes>"
      ]
     },
     "metadata": {},
     "output_type": "display_data"
    }
   ],
   "source": [
    "from sklearn.metrics import roc_curve, auc\n",
    "\n",
    "fpr_mnb, tpr_mnb, _ = roc_curve(y_test, y_pred_mnb)\n",
    "fpr_gnb, tpr_gnb, _ = roc_curve(y_test, y_pred_gnb)\n",
    "\n",
    "roc_auc_mnb = auc(fpr_mnb, tpr_mnb)\n",
    "roc_auc_gnb = auc(fpr_gnb, tpr_gnb)\n",
    "\n",
    "sns.lineplot(x=fpr_mnb, y=tpr_mnb, label='Multinomial Naive Bayes')\n",
    "sns.lineplot(x=fpr_gnb, y=tpr_gnb, label='Gaussian Naive Bayes')\n",
    "plt.xlabel('False Positive Rate')\n",
    "plt.ylabel('True Positive Rate')\n",
    "plt.title('ROC Curve')\n",
    "plt.legend()\n",
    "plt.show()"
   ]
  },
  {
   "cell_type": "code",
   "execution_count": null,
   "metadata": {},
   "outputs": [],
   "source": []
  }
 ],
 "metadata": {
  "kernelspec": {
   "display_name": "Python 3 (ipykernel)",
   "language": "python",
   "name": "python3"
  },
  "language_info": {
   "codemirror_mode": {
    "name": "ipython",
    "version": 3
   },
   "file_extension": ".py",
   "mimetype": "text/x-python",
   "name": "python",
   "nbconvert_exporter": "python",
   "pygments_lexer": "ipython3",
   "version": "3.8.20"
  }
 },
 "nbformat": 4,
 "nbformat_minor": 4
}
