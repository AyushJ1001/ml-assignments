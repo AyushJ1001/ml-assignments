{
 "cells": [
  {
   "cell_type": "markdown",
   "metadata": {},
   "source": [
    "# Assignment 1"
   ]
  },
  {
   "cell_type": "markdown",
   "metadata": {},
   "source": [
    "## Importing Libraries"
   ]
  },
  {
   "cell_type": "code",
   "execution_count": 2,
   "metadata": {},
   "outputs": [],
   "source": [
    "import numpy as np\n",
    "import pandas as pd\n",
    "import matplotlib.pyplot as plt\n",
    "import seaborn as sns"
   ]
  },
  {
   "cell_type": "markdown",
   "metadata": {},
   "source": [
    "## Dataset Preprocessing"
   ]
  },
  {
   "cell_type": "markdown",
   "metadata": {},
   "source": [
    "### Loading the dataset"
   ]
  },
  {
   "cell_type": "code",
   "execution_count": 3,
   "metadata": {},
   "outputs": [
    {
     "data": {
      "text/html": [
       "<div>\n",
       "<style scoped>\n",
       "    .dataframe tbody tr th:only-of-type {\n",
       "        vertical-align: middle;\n",
       "    }\n",
       "\n",
       "    .dataframe tbody tr th {\n",
       "        vertical-align: top;\n",
       "    }\n",
       "\n",
       "    .dataframe thead th {\n",
       "        text-align: right;\n",
       "    }\n",
       "</style>\n",
       "<table border=\"1\" class=\"dataframe\">\n",
       "  <thead>\n",
       "    <tr style=\"text-align: right;\">\n",
       "      <th></th>\n",
       "      <th>Unnamed: 0</th>\n",
       "      <th>label</th>\n",
       "      <th>text</th>\n",
       "      <th>label_num</th>\n",
       "    </tr>\n",
       "  </thead>\n",
       "  <tbody>\n",
       "    <tr>\n",
       "      <th>0</th>\n",
       "      <td>605</td>\n",
       "      <td>ham</td>\n",
       "      <td>Subject: enron methanol ; meter # : 988291\\r\\n...</td>\n",
       "      <td>0</td>\n",
       "    </tr>\n",
       "    <tr>\n",
       "      <th>1</th>\n",
       "      <td>2349</td>\n",
       "      <td>ham</td>\n",
       "      <td>Subject: hpl nom for january 9 , 2001\\r\\n( see...</td>\n",
       "      <td>0</td>\n",
       "    </tr>\n",
       "    <tr>\n",
       "      <th>2</th>\n",
       "      <td>3624</td>\n",
       "      <td>ham</td>\n",
       "      <td>Subject: neon retreat\\r\\nho ho ho , we ' re ar...</td>\n",
       "      <td>0</td>\n",
       "    </tr>\n",
       "    <tr>\n",
       "      <th>3</th>\n",
       "      <td>4685</td>\n",
       "      <td>spam</td>\n",
       "      <td>Subject: photoshop , windows , office . cheap ...</td>\n",
       "      <td>1</td>\n",
       "    </tr>\n",
       "    <tr>\n",
       "      <th>4</th>\n",
       "      <td>2030</td>\n",
       "      <td>ham</td>\n",
       "      <td>Subject: re : indian springs\\r\\nthis deal is t...</td>\n",
       "      <td>0</td>\n",
       "    </tr>\n",
       "  </tbody>\n",
       "</table>\n",
       "</div>"
      ],
      "text/plain": [
       "   Unnamed: 0 label                                               text  \\\n",
       "0         605   ham  Subject: enron methanol ; meter # : 988291\\r\\n...   \n",
       "1        2349   ham  Subject: hpl nom for january 9 , 2001\\r\\n( see...   \n",
       "2        3624   ham  Subject: neon retreat\\r\\nho ho ho , we ' re ar...   \n",
       "3        4685  spam  Subject: photoshop , windows , office . cheap ...   \n",
       "4        2030   ham  Subject: re : indian springs\\r\\nthis deal is t...   \n",
       "\n",
       "   label_num  \n",
       "0          0  \n",
       "1          0  \n",
       "2          0  \n",
       "3          1  \n",
       "4          0  "
      ]
     },
     "execution_count": 3,
     "metadata": {},
     "output_type": "execute_result"
    }
   ],
   "source": [
    "df = pd.read_csv(\"spam_ham_dataset.csv\")\n",
    "df.head()"
   ]
  },
  {
   "cell_type": "markdown",
   "metadata": {},
   "source": [
    "### Handling Missing Values"
   ]
  },
  {
   "cell_type": "code",
   "execution_count": 4,
   "metadata": {},
   "outputs": [
    {
     "data": {
      "text/plain": [
       "Unnamed: 0    0\n",
       "label         0\n",
       "text          0\n",
       "label_num     0\n",
       "dtype: int64"
      ]
     },
     "execution_count": 4,
     "metadata": {},
     "output_type": "execute_result"
    }
   ],
   "source": [
    "df.isnull().sum()"
   ]
  },
  {
   "cell_type": "markdown",
   "metadata": {},
   "source": [
    "### Split the dataset"
   ]
  },
  {
   "cell_type": "code",
   "execution_count": 5,
   "metadata": {},
   "outputs": [],
   "source": [
    "X = df['text']\n",
    "y = df['label_num']\n"
   ]
  },
  {
   "cell_type": "markdown",
   "metadata": {},
   "source": [
    "### Text preprocessing"
   ]
  },
  {
   "cell_type": "code",
   "execution_count": 6,
   "metadata": {},
   "outputs": [
    {
     "name": "stderr",
     "output_type": "stream",
     "text": [
      "[nltk_data] Downloading package punkt to\n",
      "[nltk_data]     /Users/ayushjuvekar/nltk_data...\n",
      "[nltk_data]   Package punkt is already up-to-date!\n",
      "[nltk_data] Downloading package stopwords to\n",
      "[nltk_data]     /Users/ayushjuvekar/nltk_data...\n",
      "[nltk_data]   Package stopwords is already up-to-date!\n"
     ]
    },
    {
     "data": {
      "text/plain": [
       "True"
      ]
     },
     "execution_count": 6,
     "metadata": {},
     "output_type": "execute_result"
    }
   ],
   "source": [
    "import nltk\n",
    "nltk.download('punkt')\n",
    "nltk.download('stopwords')"
   ]
  },
  {
   "cell_type": "markdown",
   "metadata": {},
   "source": [
    "#### Tokenization"
   ]
  },
  {
   "cell_type": "code",
   "execution_count": 7,
   "metadata": {},
   "outputs": [],
   "source": [
    "contexts = {\n",
    "    \"finance\": [\"stock\", \"market\", \"downturn\", \"investment\", \"loan\", \"credit\", \"insurance\", \"interest rates\", \"forex\", \"debt relief\", \"mortgage\", \"lottery\", \"inheritance\", \"refund\", \"bonus\", \"cryptocurrency\", \"bitcoin\", \"profit\", \"dividend\", \"tax\"],\n",
    "    \"technology\": [\"iphone\", \"innovative\", \"features\", \"software\", \"gadget\", \"AI\", \"blockchain\", \"download\", \"hack\", \"update\", \"security\", \"malware\", \"password\", \"phishing\", \"tech support\", \"app\", \"subscription\", \"virtual\", \"cloud\"],\n",
    "    \"weather\": [\"weather\", \"sunny\", \"rain\", \"storm\", \"forecast\", \"hurricane\", \"temperature\", \"climate\", \"flood\", \"seasonal\", \"tornado\", \"drought\", \"disaster\", \"windy\", \"cold front\"],\n",
    "    \"sports\": [\"football\", \"match\", \"thrilling\", \"basketball\", \"soccer\", \"tennis\", \"tournament\", \"championship\", \"team\", \"score\", \"game\", \"coach\", \"training\", \"Olympics\", \"player\", \"league\"],\n",
    "    \"health\": [\"diet\", \"exercise\", \"medication\", \"supplement\", \"cure\", \"weight loss\", \"disease\", \"wellness\", \"fitness\", \"healthcare\", \"treatment\", \"therapy\", \"pain relief\", \"mental health\", \"workout\", \"nutrition\"],\n",
    "    \"shopping\": [\"discount\", \"coupon\", \"deal\", \"promo\", \"free\", \"offer\", \"sale\", \"voucher\", \"clearance\", \"price\", \"bargain\", \"shopping\", \"exclusive\", \"cashback\", \"buy one get one\", \"limited time\", \"membership\"],\n",
    "    \"travel\": [\"flight\", \"vacation\", \"hotel\", \"cruise\", \"ticket\", \"package\", \"tour\", \"holiday\", \"destination\", \"cheap flights\", \"booking\", \"getaway\", \"airline\", \"passport\", \"visa\"],\n",
    "    \"education\": [\"course\", \"certificate\", \"degree\", \"exam\", \"tutoring\", \"training\", \"scholarship\", \"study\", \"admission\", \"learning\", \"e-learning\", \"webinar\", \"online classes\", \"college\", \"program\", \"assignment\"],\n",
    "    \"real_estate\": [\"property\", \"home\", \"real estate\", \"mortgage\", \"house\", \"apartment\", \"rent\", \"buy\", \"sell\", \"valuation\", \"foreclosure\", \"land\", \"investment property\", \"condo\", \"realtor\"],\n",
    "    \"job_offers\": [\"job\", \"career\", \"opportunity\", \"hiring\", \"resume\", \"recruitment\", \"salary\", \"position\", \"work from home\", \"freelance\", \"apply now\", \"internship\", \"headhunting\", \"vacancy\", \"benefits\"],\n",
    "    \"entertainment\": [\"movie\", \"concert\", \"event\", \"music\", \"streaming\", \"ticket\", \"festival\", \"show\", \"drama\", \"series\", \"celebrity\", \"download\", \"gaming\", \"comedy\", \"premiere\"],\n",
    "    \"gambling\": [\"casino\", \"bet\", \"jackpot\", \"poker\", \"win\", \"wager\", \"bingo\", \"lottery\", \"prize\", \"spin\", \"slot machine\", \"blackjack\", \"roulette\", \"cashout\"],\n",
    "    \"adult_content\": [\"dating\", \"romance\", \"explicit\", \"adult\", \"XXX\", \"escort\", \"singles\", \"chat\", \"hookup\", \"relationship\", \"flirting\", \"intimacy\", \"sexy\", \"nude\", \"privacy\"],\n",
    "    \"scams\": [\"urgent\", \"immediate\", \"winner\", \"guarantee\", \"free\", \"claim now\", \"exclusive\", \"risk-free\", \"limited time\", \"act now\", \"confidential\", \"donation\", \"gift\", \"lottery\", \"fraud\", \"suspicious\", \"verify\", \"alert\"],\n",
    "    \"pharmaceuticals\": [\"medication\", \"pharmacy\", \"drug\", \"prescription\", \"generic\", \"viagra\", \"painkiller\", \"treatment\", \"supplement\", \"pill\", \"health\", \"cure\", \"remedy\", \"medicine\"],\n",
    "    \"luxury\": [\"luxury\", \"branded\", \"watch\", \"jewelry\", \"perfume\", \"designer\", \"exclusive\", \"high-end\", \"yacht\", \"premium\", \"gold\", \"diamond\", \"exclusive\", \"opulent\"],\n",
    "    \"relationships\": [\"friendship\", \"love\", \"relationship\", \"connection\", \"marriage\", \"proposal\", \"partner\", \"dating\", \"romantic\", \"soulmate\", \"breakup\", \"couple\"],\n",
    "    \"finance_scams\": [\"inheritance\", \"refund\", \"bank account\", \"transfer\", \"claim\", \"wire transfer\", \"check\", \"million dollars\", \"compensation\", \"money order\"],\n",
    "    \"urgent_requests\": [\"asap\", \"immediate action\", \"respond quickly\", \"time-sensitive\", \"urgent\", \"important\", \"response needed\", \"deadline\", \"attention\"],\n",
    "    \"charity\": [\"donation\", \"help\", \"fundraising\", \"relief\", \"support\", \"charitable\", \"nonprofit\", \"cause\", \"volunteer\", \"contribute\"],\n",
    "    \"software\": [\"antivirus\", \"download\", \"malware\", \"subscription\", \"license\", \"patch\", \"renewal\", \"update\", \"activation\", \"cracked version\"],\n",
    "    \"investment\": [\"ROI\", \"crypto\", \"trading\", \"stocks\", \"bonds\", \"real estate\", \"portfolio\", \"returns\", \"dividends\", \"mutual fund\", \"ETF\"],\n",
    "    \"fashion\": [\"clothing\", \"brand\", \"designer\", \"style\", \"shoes\", \"handbags\", \"apparel\", \"wardrobe\", \"accessories\", \"sale\", \"limited edition\"],\n",
    "    \"government\": [\"passport\", \"visa\", \"immigration\", \"policy\", \"tax\", \"stimulus\", \"grants\", \"legislation\", \"laws\", \"compliance\", \"form submission\"],\n",
    "    \"personal_services\": [\"cleaning\", \"repair\", \"consultation\", \"advice\", \"coaching\", \"wellness\", \"beauty\", \"appointments\", \"booking\", \"therapy\"],\n",
    "    \"cryptocurrency\": [\"bitcoin\", \"ethereum\", \"blockchain\", \"crypto\", \"mining\", \"wallet\", \"token\", \"NFT\", \"exchange\", \"investment\", \"decentralized\"],\n",
    "    \"scientific_reports\": [\"research\", \"paper\", \"article\", \"experiment\", \"data\", \"analysis\", \"results\", \"supervisor\", \"thesis\", \"dissertation\", \"peer review\", \"publication\", \"proposal\", \"methodology\", \"findings\", \"journal\", \"submission\", \"revision\",\"material\",\"report\",\"data\",\"update\"]\n",
    "}\n"
   ]
  },
  {
   "cell_type": "code",
   "execution_count": 8,
   "metadata": {},
   "outputs": [],
   "source": [
    "logical_flows = {\n",
    "    \"cause_and_effect\": [\n",
    "        \"because\", \"since\", \"as a result\", \"therefore\", \"consequently\", \n",
    "        \"due to\", \"thus\", \"hence\", \"leads to\", \"results in\", \"is caused by\"\n",
    "    ],\n",
    "    \"comparison_contrast\": [\n",
    "        \"similarly\", \"likewise\", \"on the other hand\", \"however\", \"in contrast\", \n",
    "        \"whereas\", \"while\", \"although\", \"yet\", \"unlike\"\n",
    "    ],\n",
    "    \"chronological_sequential\": [\n",
    "        \"first\", \"next\", \"then\", \"after\", \"subsequently\", \"finally\", \n",
    "        \"before\", \"meanwhile\", \"during\", \"at the same time\"\n",
    "    ],\n",
    "    \"problem_and_solution\": [\n",
    "        \"problem\", \"solution\", \"resolve\", \"address\", \"issue\", \n",
    "        \"remedy\", \"solve\", \"fix\", \"answer\", \"approach\"\n",
    "    ],\n",
    "    \"general_to_specific\": [\n",
    "        \"for example\", \"for instance\", \"such as\", \"including\", \"to illustrate\", \n",
    "        \"in particular\", \"namely\", \"specifically\", \"e.g.\", \"i.e.\"\n",
    "    ],\n",
    "    \"definition_and_description\": [\n",
    "        \"is\", \"refers to\", \"means\", \"defines\", \"is characterized by\", \n",
    "        \"involves\", \"can be described as\", \"is known as\", \"represents\", \"signifies\"\n",
    "    ]\n",
    "}"
   ]
  },
  {
   "cell_type": "code",
   "execution_count": 9,
   "metadata": {},
   "outputs": [
    {
     "name": "stderr",
     "output_type": "stream",
     "text": [
      "[nltk_data] Downloading package punkt_tab to\n",
      "[nltk_data]     /Users/ayushjuvekar/nltk_data...\n",
      "[nltk_data]   Package punkt_tab is already up-to-date!\n",
      "[nltk_data] Downloading package punkt to\n",
      "[nltk_data]     /Users/ayushjuvekar/nltk_data...\n",
      "[nltk_data]   Package punkt is already up-to-date!\n",
      "[nltk_data] Downloading package stopwords to\n",
      "[nltk_data]     /Users/ayushjuvekar/nltk_data...\n",
      "[nltk_data]   Package stopwords is already up-to-date!\n"
     ]
    },
    {
     "name": "stdout",
     "output_type": "stream",
     "text": [
      "object\n",
      "   Unnamed: 0 label                                               text  \\\n",
      "0         605   ham  Subject: enron methanol ; meter # : 988291\\r\\n...   \n",
      "1        2349   ham  Subject: hpl nom for january 9 , 2001\\r\\n( see...   \n",
      "2        3624   ham  Subject: neon retreat\\r\\nho ho ho , we ' re ar...   \n",
      "3        4685  spam  Subject: photoshop , windows , office . cheap ...   \n",
      "4        2030   ham  Subject: re : indian springs\\r\\nthis deal is t...   \n",
      "\n",
      "   label_num                                       cleaned_text  \\\n",
      "0          0  subject enron methanol meter 988291 follow not...   \n",
      "1          0  subject hpl nom january 9 2001 see attached fi...   \n",
      "2          0  subject neon retreat ho ho ho around wonderful...   \n",
      "3          1  subject photoshop windows office cheap main tr...   \n",
      "4          0  subject indian springs deal book teco pvr reve...   \n",
      "\n",
      "               contexts                 logical_flows  \n",
      "0  [scientific_reports]                            []  \n",
      "1                    []                            []  \n",
      "2         [real_estate]    [chronological_sequential]  \n",
      "3         [real_estate]  [definition_and_description]  \n",
      "4            [shopping]        [problem_and_solution]  \n"
     ]
    }
   ],
   "source": [
    "import string\n",
    "import nltk\n",
    "from nltk.tokenize import word_tokenize\n",
    "from nltk.corpus import stopwords\n",
    "from sklearn.feature_extraction.text import CountVectorizer\n",
    "from sklearn.naive_bayes import MultinomialNB\n",
    "from sklearn.model_selection import train_test_split\n",
    "from sklearn.metrics import accuracy_score, confusion_matrix, classification_report\n",
    "from scipy.sparse import hstack, csr_matrix\n",
    "from sklearn.preprocessing import MultiLabelBinarizer\n",
    "\n",
    "\n",
    "# Download necessary NLTK data files\n",
    "\n",
    "nltk.download('punkt_tab')\n",
    "nltk.download('punkt')\n",
    "\n",
    "nltk.download('stopwords')\n",
    "\n",
    "# converting to lower case \n",
    "X=X.astype(str)\n",
    "print(X.dtype)\n",
    "X=X.apply(lambda x: x.lower())\n",
    "\n",
    "# Define stop words\n",
    "stop_words = set(stopwords.words('english'))\n",
    "\n",
    "cleaned_texts = []\n",
    "flow_labels_=[]\n",
    "context_labels_=[]\n",
    "\n",
    "\n",
    "cleaned_texts = []\n",
    "flow_labels_ = []\n",
    "context_labels_ = []\n",
    "\n",
    "for text in X:\n",
    "    # Step 1: Remove punctuation\n",
    "    text = ''.join([char for char in text if char not in string.punctuation])\n",
    "    \n",
    "    # Step 2: Tokenize text\n",
    "    words = word_tokenize(text)\n",
    "    \n",
    "    # Step 3: Remove stop words\n",
    "    filtered_words = [word for word in words if word.lower() not in stop_words]\n",
    "    \n",
    "    # Step 4: Join cleaned words back into a single string\n",
    "    cleaned_text = ' '.join(filtered_words)\n",
    "    \n",
    "    # Step 5: Label contexts\n",
    "    context_labels = [\n",
    "        context for context, keywords in contexts.items() \n",
    "        if any(keyword in cleaned_text.lower() for keyword in keywords)\n",
    "    ]\n",
    "    # Pick the context with the most matches if at least one was found\n",
    "    if context_labels:\n",
    "        context_labels = [\n",
    "            max(\n",
    "                context_labels,\n",
    "                key=lambda c: sum(keyword in cleaned_text.lower() for keyword in contexts[c])\n",
    "            )\n",
    "        ]\n",
    "\n",
    "    # Step 6: Label logical flows\n",
    "    flow_labels = [\n",
    "        flow for flow, keywords in logical_flows.items() \n",
    "        if any(keyword in cleaned_text.lower() for keyword in keywords)\n",
    "    ]\n",
    "    # Pick the flow with the most matches if at least one was found\n",
    "    if flow_labels:\n",
    "        flow_labels = [\n",
    "            max(\n",
    "                flow_labels,\n",
    "                key=lambda f: sum(keyword in cleaned_text.lower() for keyword in logical_flows[f])\n",
    "            )\n",
    "        ]\n",
    "    \n",
    "    # Store results\n",
    "    cleaned_texts.append(cleaned_text)\n",
    "    flow_labels_.append(flow_labels)\n",
    "    context_labels_.append(context_labels)\n",
    "\n",
    "# Attach these new columns to the DataFrame\n",
    "df[\"cleaned_text\"]   = cleaned_texts\n",
    "df[\"contexts\"]       = context_labels_\n",
    "df[\"logical_flows\"]  = flow_labels_\n",
    "\n",
    "print(df.head())\n"
   ]
  },
  {
   "cell_type": "code",
   "execution_count": 10,
   "metadata": {},
   "outputs": [],
   "source": [
    "from sklearn.feature_extraction.text import CountVectorizer\n",
    "\n",
    "vectorizer = CountVectorizer(stop_words='english', lowercase=True)\n",
    "X = vectorizer.fit_transform(df['cleaned_text'])\n",
    "\n",
    "\n",
    "\n"
   ]
  },
  {
   "cell_type": "markdown",
   "metadata": {},
   "source": [
    "## Modeling"
   ]
  },
  {
   "cell_type": "markdown",
   "metadata": {},
   "source": [
    "### Train test split"
   ]
  },
  {
   "cell_type": "code",
   "execution_count": 11,
   "metadata": {},
   "outputs": [],
   "source": [
    "from sklearn.model_selection import train_test_split\n",
    "\n",
    "X_train, X_test, y_train, y_test = train_test_split(X, y, test_size=0.2, random_state=42)\n"
   ]
  },
  {
   "cell_type": "markdown",
   "metadata": {},
   "source": [
    "### Multinomial Naive Bayes"
   ]
  },
  {
   "cell_type": "code",
   "execution_count": 12,
   "metadata": {},
   "outputs": [],
   "source": [
    "from sklearn.naive_bayes import MultinomialNB  \n",
    "\n",
    "model = MultinomialNB()\n",
    "\n",
    "model.fit(X_train, y_train)\n",
    "\n",
    "### Predictions\n",
    "\n",
    "y_pred_mnb = model.predict(X_test)"
   ]
  },
  {
   "cell_type": "markdown",
   "metadata": {},
   "source": [
    "### Gaussian Naive Bayes"
   ]
  },
  {
   "cell_type": "code",
   "execution_count": 13,
   "metadata": {},
   "outputs": [],
   "source": [
    "from sklearn.naive_bayes import GaussianNB\n",
    "\n",
    "model = GaussianNB()\n",
    "\n",
    "# Convert X_train and X_test to dense arrays\n",
    "X_train_dense = X_train.toarray()\n",
    "X_test_dense = X_test.toarray()\n",
    "\n",
    "model.fit(X_train_dense, y_train)\n",
    "\n",
    "y_pred_gnb = model.predict(X_test_dense)\n"
   ]
  },
  {
   "cell_type": "markdown",
   "metadata": {},
   "source": [
    "## Evaluation"
   ]
  },
  {
   "cell_type": "markdown",
   "metadata": {},
   "source": [
    "### Accuracy"
   ]
  },
  {
   "cell_type": "code",
   "execution_count": 14,
   "metadata": {},
   "outputs": [
    {
     "name": "stdout",
     "output_type": "stream",
     "text": [
      "Accuracy of Multinomial Naive Bayes: 0.9758454106280193\n",
      "Accuracy of Gaussian Naive Bayes: 0.9545893719806763\n"
     ]
    }
   ],
   "source": [
    "from sklearn.metrics import accuracy_score\n",
    "\n",
    "accuracy_mnb = accuracy_score(y_test, y_pred_mnb)\n",
    "accuracy_gnb = accuracy_score(y_test, y_pred_gnb)\n",
    "\n",
    "print(f\"Accuracy of Multinomial Naive Bayes: {accuracy_mnb}\")\n",
    "print(f\"Accuracy of Gaussian Naive Bayes: {accuracy_gnb}\")"
   ]
  },
  {
   "cell_type": "markdown",
   "metadata": {},
   "source": [
    "### Confusion Matrix"
   ]
  },
  {
   "cell_type": "code",
   "execution_count": 15,
   "metadata": {},
   "outputs": [
    {
     "data": {
      "image/png": "[encoded data removed]",
      "text/plain": [
       "<Figure size 1200x500 with 4 Axes>"
      ]
     },
     "metadata": {},
     "output_type": "display_data"
    }
   ],
   "source": [
    "from sklearn.metrics import confusion_matrix\n",
    "\n",
    "conf_matrix_mnb = confusion_matrix(y_test, y_pred_mnb)\n",
    "conf_matrix_gnb = confusion_matrix(y_test, y_pred_gnb)\n",
    "\n",
    "# Add heatmap visualization for confusion matrices\n",
    "plt.figure(figsize=(12, 5))\n",
    "plt.subplot(1, 2, 1)\n",
    "sns.heatmap(conf_matrix_mnb, annot=True, fmt='d', cmap='Blues', \n",
    "            xticklabels=['Ham', 'Spam'], yticklabels=['Ham', 'Spam'])\n",
    "plt.title('Multinomial NB Confusion Matrix')\n",
    "\n",
    "plt.subplot(1, 2, 2)\n",
    "sns.heatmap(conf_matrix_gnb, annot=True, fmt='d', cmap='Reds',\n",
    "            xticklabels=['Ham', 'Spam'], yticklabels=['Ham', 'Spam'])\n",
    "plt.title('Gaussian NB Confusion Matrix')\n",
    "plt.tight_layout()\n",
    "plt.show()"
   ]
  },
  {
   "cell_type": "markdown",
   "metadata": {},
   "source": [
    "### Precision, Recall, F1 Score"
   ]
  },
  {
   "cell_type": "code",
   "execution_count": 16,
   "metadata": {},
   "outputs": [
    {
     "name": "stdout",
     "output_type": "stream",
     "text": [
      "Precision of Multinomial Naive Bayes: 0.9527027027027027\n",
      "Recall of Multinomial Naive Bayes: 0.962457337883959\n",
      "F1 Score of Multinomial Naive Bayes: 0.9575551782682513\n",
      "Precision of Gaussian Naive Bayes: 0.9624060150375939\n",
      "Recall of Gaussian Naive Bayes: 0.8737201365187713\n",
      "F1 Score of Gaussian Naive Bayes: 0.9159212880143113\n"
     ]
    }
   ],
   "source": [
    "from sklearn.metrics import precision_recall_fscore_support\n",
    "\n",
    "precision_mnb, recall_mnb, f1_mnb, _ = precision_recall_fscore_support(y_test, y_pred_mnb, average='binary')\n",
    "precision_gnb, recall_gnb, f1_gnb, _ = precision_recall_fscore_support(y_test, y_pred_gnb, average='binary')\n",
    "\n",
    "\n",
    "print(f\"Precision of Multinomial Naive Bayes: {precision_mnb}\")\n",
    "print(f\"Recall of Multinomial Naive Bayes: {recall_mnb}\")\n",
    "print(f\"F1 Score of Multinomial Naive Bayes: {f1_mnb}\")\n",
    "print(f\"Precision of Gaussian Naive Bayes: {precision_gnb}\")\n",
    "print(f\"Recall of Gaussian Naive Bayes: {recall_gnb}\")\n",
    "print(f\"F1 Score of Gaussian Naive Bayes: {f1_gnb}\")"
   ]
  },
  {
   "cell_type": "markdown",
   "metadata": {},
   "source": [
    "### ROC Curve"
   ]
  },
  {
   "cell_type": "code",
   "execution_count": 17,
   "metadata": {},
   "outputs": [
    {
     "data": {
      "image/png": "[encoded data removed]",
      "text/plain": [
       "<Figure size 640x480 with 1 Axes>"
      ]
     },
     "metadata": {},
     "output_type": "display_data"
    }
   ],
   "source": [
    "from sklearn.metrics import roc_curve, auc\n",
    "\n",
    "fpr_mnb, tpr_mnb, _ = roc_curve(y_test, y_pred_mnb)\n",
    "fpr_gnb, tpr_gnb, _ = roc_curve(y_test, y_pred_gnb)\n",
    "\n",
    "roc_auc_mnb = auc(fpr_mnb, tpr_mnb)\n",
    "roc_auc_gnb = auc(fpr_gnb, tpr_gnb)\n",
    "\n",
    "sns.lineplot(x=fpr_mnb, y=tpr_mnb, label='Multinomial Naive Bayes')\n",
    "sns.lineplot(x=fpr_gnb, y=tpr_gnb, label='Gaussian Naive Bayes')\n",
    "plt.xlabel('False Positive Rate')\n",
    "plt.ylabel('True Positive Rate')\n",
    "plt.title('ROC Curve')\n",
    "plt.legend()\n",
    "plt.show()"
   ]
  },
  {
   "cell_type": "code",
   "execution_count": null,
   "metadata": {},
   "outputs": [],
   "source": []
  }
 ],
 "metadata": {
  "kernelspec": {
   "display_name": "base",
   "language": "python",
   "name": "python3"
  },
  "language_info": {
   "codemirror_mode": {
    "name": "ipython",
    "version": 3
   },
   "file_extension": ".py",
   "mimetype": "text/x-python",
   "name": "python",
   "nbconvert_exporter": "python",
   "pygments_lexer": "ipython3",
   "version": "3.12.2"
  }
 },
 "nbformat": 4,
 "nbformat_minor": 2
}
